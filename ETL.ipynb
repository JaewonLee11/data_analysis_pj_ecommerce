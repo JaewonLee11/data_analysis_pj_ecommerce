{
 "cells": [
  {
   "cell_type": "code",
   "execution_count": 19,
   "metadata": {},
   "outputs": [],
   "source": [
    "import pandas as pd\n",
    "import numpy as np\n",
    "\n",
    "import pymysql\n",
    "from google.oauth2 import service_account\n",
    "from google.cloud import bigquery\n",
    "from pandas_gbq import to_gbq\n",
    "\n",
    "import os\n",
    "from dotenv import load_dotenv\n"
   ]
  },
  {
   "cell_type": "code",
   "execution_count": 20,
   "metadata": {},
   "outputs": [],
   "source": [
    "load_dotenv()\n",
    "\n",
    "mysql_con = pymysql.connect(\n",
    "    host=os.getenv(\"host\"),\n",
    "    port=int(os.getenv(\"port\")),\n",
    "    user=os.getenv(\"user\"),\n",
    "    password=os.getenv(\"password\"),\n",
    "    db=os.getenv(\"db\")\n",
    ")\n",
    "cursor = mysql_con.cursor()"
   ]
  },
  {
   "cell_type": "markdown",
   "metadata": {},
   "source": [
    "## ETL"
   ]
  },
  {
   "cell_type": "code",
   "execution_count": 21,
   "metadata": {},
   "outputs": [
    {
     "name": "stderr",
     "output_type": "stream",
     "text": [
      "C:\\Users\\Public\\Documents\\ESTsoft\\CreatorTemp\\ipykernel_28168\\324209136.py:13: UserWarning: pandas only supports SQLAlchemy connectable (engine/connection) or database string URI or sqlite3 DBAPI2 connection. Other DBAPI2 objects are not tested. Please consider using SQLAlchemy.\n",
      "  orders_df = pd.read_sql(query1, mysql_con)\n",
      "C:\\Users\\Public\\Documents\\ESTsoft\\CreatorTemp\\ipykernel_28168\\324209136.py:14: UserWarning: pandas only supports SQLAlchemy connectable (engine/connection) or database string URI or sqlite3 DBAPI2 connection. Other DBAPI2 objects are not tested. Please consider using SQLAlchemy.\n",
      "  order_review_df = pd.read_sql(query2, mysql_con)\n",
      "C:\\Users\\Public\\Documents\\ESTsoft\\CreatorTemp\\ipykernel_28168\\324209136.py:15: UserWarning: pandas only supports SQLAlchemy connectable (engine/connection) or database string URI or sqlite3 DBAPI2 connection. Other DBAPI2 objects are not tested. Please consider using SQLAlchemy.\n",
      "  order_payment_df = pd.read_sql(query3, mysql_con)\n",
      "C:\\Users\\Public\\Documents\\ESTsoft\\CreatorTemp\\ipykernel_28168\\324209136.py:16: UserWarning: pandas only supports SQLAlchemy connectable (engine/connection) or database string URI or sqlite3 DBAPI2 connection. Other DBAPI2 objects are not tested. Please consider using SQLAlchemy.\n",
      "  order_items_df = pd.read_sql(query4, mysql_con)\n",
      "C:\\Users\\Public\\Documents\\ESTsoft\\CreatorTemp\\ipykernel_28168\\324209136.py:17: UserWarning: pandas only supports SQLAlchemy connectable (engine/connection) or database string URI or sqlite3 DBAPI2 connection. Other DBAPI2 objects are not tested. Please consider using SQLAlchemy.\n",
      "  product_category_name_df = pd.read_sql(query5, mysql_con)\n",
      "C:\\Users\\Public\\Documents\\ESTsoft\\CreatorTemp\\ipykernel_28168\\324209136.py:18: UserWarning: pandas only supports SQLAlchemy connectable (engine/connection) or database string URI or sqlite3 DBAPI2 connection. Other DBAPI2 objects are not tested. Please consider using SQLAlchemy.\n",
      "  products_df = pd.read_sql(query6, mysql_con)\n",
      "C:\\Users\\Public\\Documents\\ESTsoft\\CreatorTemp\\ipykernel_28168\\324209136.py:19: UserWarning: pandas only supports SQLAlchemy connectable (engine/connection) or database string URI or sqlite3 DBAPI2 connection. Other DBAPI2 objects are not tested. Please consider using SQLAlchemy.\n",
      "  geo_df = pd.read_sql(query7, mysql_con)\n",
      "C:\\Users\\Public\\Documents\\ESTsoft\\CreatorTemp\\ipykernel_28168\\324209136.py:20: UserWarning: pandas only supports SQLAlchemy connectable (engine/connection) or database string URI or sqlite3 DBAPI2 connection. Other DBAPI2 objects are not tested. Please consider using SQLAlchemy.\n",
      "  sellers_df = pd.read_sql(query8, mysql_con)\n",
      "C:\\Users\\Public\\Documents\\ESTsoft\\CreatorTemp\\ipykernel_28168\\324209136.py:21: UserWarning: pandas only supports SQLAlchemy connectable (engine/connection) or database string URI or sqlite3 DBAPI2 connection. Other DBAPI2 objects are not tested. Please consider using SQLAlchemy.\n",
      "  customers_df = pd.read_sql(query9, mysql_con)\n",
      "C:\\Users\\Public\\Documents\\ESTsoft\\CreatorTemp\\ipykernel_28168\\324209136.py:22: UserWarning: pandas only supports SQLAlchemy connectable (engine/connection) or database string URI or sqlite3 DBAPI2 connection. Other DBAPI2 objects are not tested. Please consider using SQLAlchemy.\n",
      "  closed_deals_df = pd.read_sql(query10, mysql_con)\n",
      "C:\\Users\\Public\\Documents\\ESTsoft\\CreatorTemp\\ipykernel_28168\\324209136.py:23: UserWarning: pandas only supports SQLAlchemy connectable (engine/connection) or database string URI or sqlite3 DBAPI2 connection. Other DBAPI2 objects are not tested. Please consider using SQLAlchemy.\n",
      "  mql_df = pd.read_sql(query11, mysql_con)\n"
     ]
    }
   ],
   "source": [
    "query1 = (\"\"\"select * from olist_orders_dataset\"\"\")\n",
    "query2 = (\"\"\"select * from olist_order_reviews_dataset\"\"\")\n",
    "query3 = (\"\"\"select * from olist_order_payments_dataset\"\"\")\n",
    "query4 = (\"\"\"select * from olist_order_items_dataset\"\"\")\n",
    "query5 = (\"\"\"select * from product_category_name_translation\"\"\")\n",
    "query6 = (\"\"\"select * from olist_products_dataset\"\"\")\n",
    "query7 = (\"\"\"select * from olist_geolocation_dataset\"\"\")\n",
    "query8 = (\"\"\"select * from olist_sellers_dataset\"\"\")\n",
    "query9 = (\"\"\"select * from olist_customers_dataset\"\"\")\n",
    "query10 = (\"\"\"select * from olist_closed_deals_dataset\"\"\")\n",
    "query11 = (\"\"\"select * from olist_marketing_qualified_leads_dataset\"\"\")\n",
    "\n",
    "orders_df = pd.read_sql(query1, mysql_con)\n",
    "order_review_df = pd.read_sql(query2, mysql_con)\n",
    "order_payment_df = pd.read_sql(query3, mysql_con)\n",
    "order_items_df = pd.read_sql(query4, mysql_con)\n",
    "product_category_name_df = pd.read_sql(query5, mysql_con)\n",
    "products_df = pd.read_sql(query6, mysql_con)\n",
    "geo_df = pd.read_sql(query7, mysql_con)\n",
    "sellers_df = pd.read_sql(query8, mysql_con)\n",
    "customers_df = pd.read_sql(query9, mysql_con)\n",
    "closed_deals_df = pd.read_sql(query10, mysql_con)\n",
    "mql_df = pd.read_sql(query11, mysql_con)\n"
   ]
  },
  {
   "cell_type": "code",
   "execution_count": 22,
   "metadata": {},
   "outputs": [
    {
     "name": "stdout",
     "output_type": "stream",
     "text": [
      "order_id                            0\n",
      "customer_id                         0\n",
      "order_status                        0\n",
      "order_purchase_timestamp            0\n",
      "order_approved_at                 160\n",
      "order_delivered_carrier_date     1783\n",
      "order_delivered_customer_date    2965\n",
      "order_estimated_delivery_date       0\n",
      "dtype: int64\n",
      "\n",
      "review_id                      0\n",
      "order_id                       0\n",
      "review_score                   0\n",
      "review_comment_title       87656\n",
      "review_comment_message     58247\n",
      "review_creation_date           0\n",
      "review_answer_timestamp        0\n",
      "dtype: int64\n",
      "\n",
      "order_id                0\n",
      "payment_sequential      0\n",
      "payment_type            0\n",
      "payment_installments    0\n",
      "payment_value           0\n",
      "dtype: int64\n",
      "\n",
      "order_id               0\n",
      "order_item_id          0\n",
      "product_id             0\n",
      "seller_id              0\n",
      "shipping_limit_date    0\n",
      "price                  0\n",
      "freight_value          0\n",
      "dtype: int64\n",
      "\n",
      "product_category_name            0\n",
      "product_category_name_english    0\n",
      "dtype: int64\n",
      "\n",
      "product_id                    0\n",
      "product_category_name         0\n",
      "product_name_lenght           0\n",
      "product_description_lenght    0\n",
      "product_photos_qty            0\n",
      "product_weight_g              0\n",
      "product_length_cm             0\n",
      "product_height_cm             0\n",
      "product_width_cm              0\n",
      "dtype: int64\n",
      "\n",
      "geolocation_zip_code_prefix    0\n",
      "geolocation_lat                0\n",
      "geolocation_lng                0\n",
      "geolocation_city               0\n",
      "geolocation_state              0\n",
      "dtype: int64\n",
      "\n",
      "seller_id                 0\n",
      "seller_zip_code_prefix    0\n",
      "seller_city               0\n",
      "seller_state              0\n",
      "dtype: int64\n",
      "\n",
      "customer_id                 0\n",
      "customer_unique_id          0\n",
      "customer_zip_code_prefix    0\n",
      "customer_city               0\n",
      "customer_state              0\n",
      "dtype: int64\n",
      "\n",
      "mql_id                           0\n",
      "seller_id                        0\n",
      "sdr_id                           0\n",
      "sr_id                            0\n",
      "won_date                         0\n",
      "business_segment                 0\n",
      "lead_type                        0\n",
      "lead_behaviour_profile           0\n",
      "has_company                      0\n",
      "has_gtin                         0\n",
      "average_stock                    0\n",
      "business_type                    0\n",
      "declared_product_catalog_size    0\n",
      "declared_monthly_revenue         0\n",
      "dtype: int64\n",
      "\n",
      "mql_id                0\n",
      "first_contact_date    0\n",
      "landing_page_id       0\n",
      "origin                0\n",
      "dtype: int64\n",
      "\n"
     ]
    }
   ],
   "source": [
    "print(orders_df.isnull().sum())\n",
    "print()\n",
    "print(order_review_df.isnull().sum())\n",
    "print()\n",
    "print(order_payment_df.isnull().sum())\n",
    "print()\n",
    "print(order_items_df.isnull().sum())\n",
    "print()\n",
    "print(product_category_name_df.isnull().sum())\n",
    "print()\n",
    "print(products_df.isnull().sum())\n",
    "print()\n",
    "print(geo_df.isnull().sum())\n",
    "print()\n",
    "print(sellers_df.isnull().sum())\n",
    "print()\n",
    "print(customers_df.isnull().sum())\n",
    "print()\n",
    "print(closed_deals_df.isnull().sum())\n",
    "print()\n",
    "print(mql_df.isnull().sum())\n",
    "print()\n"
   ]
  },
  {
   "cell_type": "code",
   "execution_count": null,
   "metadata": {},
   "outputs": [],
   "source": [
    "orders_df = orders_df[['order_id', 'customer_id', 'order_status', 'order_purchase_timestamp']].drop_duplicates()\n",
    "\n",
    "order_items_df = order_items_df[['order_id', 'order_item_id', 'product_id', 'price', 'freight_value']].drop_duplicates()\n",
    "order_items_df['revenue'] = order_items_df['order_item_id']*(order_items_df['price']+order_items_df['freight_value'])\n",
    "order_items_df.rename(columns={'order_item_id':'count'}, inplace=True)\n",
    "\n",
    "products_df = products_df[['product_id', 'product_category_name']]\n",
    "join_product_df= pd.merge(products_df,product_category_name_df, how='inner', on='product_category_name')\n",
    "join_product_df = join_product_df[['product_id', 'product_category_name_english']].rename(columns={'product_category_name_english':'product_category_name'})\n",
    "\n",
    "order_payment_df=order_payment_df[['order_id', 'payment_type']]\n",
    "\n",
    "order_review_df = order_review_df[['review_id', 'order_id', 'review_score', 'review_comment_title', 'review_comment_message', 'review_creation_date']]\n",
    "\n",
    "customers_df = customers_df[['customer_id', 'customer_unique_id', 'customer_zip_code_prefix']]\n",
    "\n",
    "geo_df = geo_df[['geolocation_zip_code_prefix','geolocation_lat', 'geolocation_lng', 'geolocation_city']]\n",
    "\n",
    "sellers_df = sellers_df[['seller_id', 'seller_zip_code_prefix']]\n",
    "order_review_df = order_review_df.dropna(subset=['review_comment_message'])\n",
    "order_review_df['review_comment_title'] = order_review_df['review_comment_title'].fillna('.')\n",
    "order_review_df = order_review_df[['review_id', 'order_id', 'review_score', 'review_creation_date']]\n",
    "\n",
    "mql_df.origin = mql_df.origin.str.replace('_', ' ')\n",
    "mql_df = mql_df[(mql_df['origin'].notnull()) & (mql_df['origin'] != '')]\n"
   ]
  },
  {
   "cell_type": "code",
   "execution_count": null,
   "metadata": {},
   "outputs": [],
   "source": []
  },
  {
   "cell_type": "markdown",
   "metadata": {},
   "source": [
    "##### Bigquery에 삽입"
   ]
  },
  {
   "cell_type": "code",
   "execution_count": 12,
   "metadata": {},
   "outputs": [],
   "source": [
    "SERVICE_ACCOUNT_FILE = \"./bigquery_key/api_key.json\"  # 키 json 파일\n",
    "credentials = service_account.Credentials.from_service_account_file(SERVICE_ACCOUNT_FILE)\n",
    "project_id = \"driven-net-452904-q3\"\n",
    "dataset_name = \"ecommerce_project\"\n",
    "client = bigquery.Client(credentials=credentials, project=project_id)\n",
    "\n",
    "def import_bigquery_data(query):\n",
    "    query_job = client.query(query)\n",
    "    return query_job.to_dataframe()"
   ]
  },
  {
   "cell_type": "code",
   "execution_count": 13,
   "metadata": {},
   "outputs": [
    {
     "name": "stderr",
     "output_type": "stream",
     "text": [
      "100%|██████████| 1/1 [00:00<00:00, 999.12it/s]\n"
     ]
    },
    {
     "name": "stdout",
     "output_type": "stream",
     "text": [
      "✅ BigQuery에 데이터 적재 완료: driven-net-452904-q3.ecommerce_project.orders\n"
     ]
    },
    {
     "name": "stderr",
     "output_type": "stream",
     "text": [
      "100%|██████████| 1/1 [00:00<?, ?it/s]\n"
     ]
    },
    {
     "name": "stdout",
     "output_type": "stream",
     "text": [
      "✅ BigQuery에 데이터 적재 완료: driven-net-452904-q3.ecommerce_project.order_items\n"
     ]
    },
    {
     "name": "stderr",
     "output_type": "stream",
     "text": [
      "100%|██████████| 1/1 [00:00<?, ?it/s]\n"
     ]
    },
    {
     "name": "stdout",
     "output_type": "stream",
     "text": [
      "✅ BigQuery에 데이터 적재 완료: driven-net-452904-q3.ecommerce_project.products\n"
     ]
    },
    {
     "name": "stderr",
     "output_type": "stream",
     "text": [
      "100%|██████████| 1/1 [00:00<?, ?it/s]\n"
     ]
    },
    {
     "name": "stdout",
     "output_type": "stream",
     "text": [
      "✅ BigQuery에 데이터 적재 완료: driven-net-452904-q3.ecommerce_project.payments\n"
     ]
    },
    {
     "name": "stderr",
     "output_type": "stream",
     "text": [
      "100%|██████████| 1/1 [00:00<?, ?it/s]\n"
     ]
    },
    {
     "name": "stdout",
     "output_type": "stream",
     "text": [
      "✅ BigQuery에 데이터 적재 완료: driven-net-452904-q3.ecommerce_project.reviews\n"
     ]
    },
    {
     "name": "stderr",
     "output_type": "stream",
     "text": [
      "100%|██████████| 1/1 [00:00<?, ?it/s]\n"
     ]
    },
    {
     "name": "stdout",
     "output_type": "stream",
     "text": [
      "✅ BigQuery에 데이터 적재 완료: driven-net-452904-q3.ecommerce_project.customers\n"
     ]
    },
    {
     "name": "stderr",
     "output_type": "stream",
     "text": [
      "100%|██████████| 1/1 [00:00<?, ?it/s]\n"
     ]
    },
    {
     "name": "stdout",
     "output_type": "stream",
     "text": [
      "✅ BigQuery에 데이터 적재 완료: driven-net-452904-q3.ecommerce_project.sellers\n"
     ]
    },
    {
     "name": "stderr",
     "output_type": "stream",
     "text": [
      "100%|██████████| 1/1 [00:00<?, ?it/s]\n"
     ]
    },
    {
     "name": "stdout",
     "output_type": "stream",
     "text": [
      "✅ BigQuery에 데이터 적재 완료: driven-net-452904-q3.ecommerce_project.geolocation\n"
     ]
    },
    {
     "name": "stderr",
     "output_type": "stream",
     "text": [
      "100%|██████████| 1/1 [00:00<?, ?it/s]\n"
     ]
    },
    {
     "name": "stdout",
     "output_type": "stream",
     "text": [
      "✅ BigQuery에 데이터 적재 완료: driven-net-452904-q3.ecommerce_project.closed_deals\n"
     ]
    },
    {
     "name": "stderr",
     "output_type": "stream",
     "text": [
      "100%|██████████| 1/1 [00:00<?, ?it/s]"
     ]
    },
    {
     "name": "stdout",
     "output_type": "stream",
     "text": [
      "✅ BigQuery에 데이터 적재 완료: driven-net-452904-q3.ecommerce_project.mql\n"
     ]
    },
    {
     "name": "stderr",
     "output_type": "stream",
     "text": [
      "\n"
     ]
    }
   ],
   "source": [
    "to_gbq(orders_df, f\"{dataset_name}.orders\", project_id=project_id, if_exists=\"replace\")\n",
    "print(f\"✅ BigQuery에 데이터 적재 완료: {project_id}.{dataset_name}.orders\")\n",
    "to_gbq(order_items_df, f\"{dataset_name}.order_items\", project_id=project_id, if_exists=\"replace\")\n",
    "print(f\"✅ BigQuery에 데이터 적재 완료: {project_id}.{dataset_name}.order_items\")\n",
    "to_gbq(join_product_df, f\"{dataset_name}.products\", project_id=project_id, if_exists=\"replace\")\n",
    "print(f\"✅ BigQuery에 데이터 적재 완료: {project_id}.{dataset_name}.products\")\n",
    "to_gbq(order_payment_df, f\"{dataset_name}.payments\", project_id=project_id, if_exists=\"replace\")\n",
    "print(f\"✅ BigQuery에 데이터 적재 완료: {project_id}.{dataset_name}.payments\")\n",
    "to_gbq(order_review_df, f\"{dataset_name}.reviews\", project_id=project_id, if_exists=\"replace\")\n",
    "print(f\"✅ BigQuery에 데이터 적재 완료: {project_id}.{dataset_name}.reviews\")\n",
    "to_gbq(customers_df, f\"{dataset_name}.customers\", project_id=project_id, if_exists=\"replace\")\n",
    "print(f\"✅ BigQuery에 데이터 적재 완료: {project_id}.{dataset_name}.customers\")\n",
    "to_gbq(sellers_df, f\"{dataset_name}.sellers\", project_id=project_id, if_exists=\"replace\")\n",
    "print(f\"✅ BigQuery에 데이터 적재 완료: {project_id}.{dataset_name}.sellers\")\n",
    "to_gbq(geo_df, f\"{dataset_name}.geolocation\", project_id=project_id, if_exists=\"replace\")\n",
    "print(f\"✅ BigQuery에 데이터 적재 완료: {project_id}.{dataset_name}.geolocation\")\n",
    "to_gbq(closed_deals_df, f\"{dataset_name}.closed_deals\", project_id=project_id, if_exists=\"replace\")\n",
    "print(f\"✅ BigQuery에 데이터 적재 완료: {project_id}.{dataset_name}.closed_deals\")\n",
    "to_gbq(mql_df, f\"{dataset_name}.mql\", project_id=project_id, if_exists=\"replace\")\n",
    "print(f\"✅ BigQuery에 데이터 적재 완료: {project_id}.{dataset_name}.mql\")\n",
    "\n"
   ]
  },
  {
   "cell_type": "code",
   "execution_count": 14,
   "metadata": {},
   "outputs": [],
   "source": [
    "mysql_con.close()"
   ]
  }
 ],
 "metadata": {
  "kernelspec": {
   "display_name": "torch",
   "language": "python",
   "name": "python3"
  },
  "language_info": {
   "codemirror_mode": {
    "name": "ipython",
    "version": 3
   },
   "file_extension": ".py",
   "mimetype": "text/x-python",
   "name": "python",
   "nbconvert_exporter": "python",
   "pygments_lexer": "ipython3",
   "version": "3.8.19"
  }
 },
 "nbformat": 4,
 "nbformat_minor": 2
}
